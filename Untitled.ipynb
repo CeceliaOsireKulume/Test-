{
 "cells": [
  {
   "cell_type": "markdown",
   "id": "7fa0266f-f5a2-4d99-a4a5-641280a4b063",
   "metadata": {},
   "source": [
    "Test Script"
   ]
  },
  {
   "cell_type": "code",
   "execution_count": null,
   "id": "60349067-b788-4e68-9bd7-1d036f282394",
   "metadata": {},
   "outputs": [],
   "source": []
  }
 ],
 "metadata": {
  "kernelspec": {
   "display_name": "Python 3 (ipykernel)",
   "language": "python",
   "name": "python3"
  },
  "language_info": {
   "codemirror_mode": {
    "name": "ipython",
    "version": 3
   },
   "file_extension": ".py",
   "mimetype": "text/x-python",
   "name": "python",
   "nbconvert_exporter": "python",
   "pygments_lexer": "ipython3",
   "version": "3.12.4"
  }
 },
 "nbformat": 4,
 "nbformat_minor": 5
}
